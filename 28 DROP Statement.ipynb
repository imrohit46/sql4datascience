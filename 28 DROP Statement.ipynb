{
 "cells": [
  {
   "cell_type": "markdown",
   "metadata": {},
   "source": [
    "# DROP\n",
    "By:<a href='https://www.youtube.com/wonkyCode'>WonkyCode</a>"
   ]
  },
  {
   "cell_type": "markdown",
   "metadata": {},
   "source": [
    "* DROP command removes tables and databases from RDBMS.\n",
    "<pre>\n",
    "Syntax:\n",
    "        DROP object_type object_name;\n",
    "</pre>\n",
    "\n",
    "**Examples:**\n",
    "\n",
    "<code>DROP TABLE country;</code>\n",
    "\n",
    "<code>DROP TABLE IF EXISTS country;</code>\n",
    "\n",
    "<code>DROP DATABASE imdb;</code>"
   ]
  },
  {
   "cell_type": "code",
   "execution_count": null,
   "metadata": {},
   "outputs": [],
   "source": []
  },
  {
   "cell_type": "markdown",
   "metadata": {},
   "source": [
    "**Useful Resources:**\n",
    "* https://dev.mysql.com/doc/refman/8.0/en/drop-table.html\n",
    "* https://dev.mysql.com/doc/refman/8.0/en/drop-database.html\n",
    "* https://www.mysqltutorial.org/mysql-drop-table/\n",
    "* https://www.techonthenet.com/mysql/tables/drop_table.php"
   ]
  },
  {
   "cell_type": "code",
   "execution_count": null,
   "metadata": {},
   "outputs": [],
   "source": []
  }
 ],
 "metadata": {
  "kernelspec": {
   "display_name": "Python 3",
   "language": "python",
   "name": "python3"
  },
  "language_info": {
   "codemirror_mode": {
    "name": "ipython",
    "version": 3
   },
   "file_extension": ".py",
   "mimetype": "text/x-python",
   "name": "python",
   "nbconvert_exporter": "python",
   "pygments_lexer": "ipython3",
   "version": "3.8.5"
  }
 },
 "nbformat": 4,
 "nbformat_minor": 4
}
