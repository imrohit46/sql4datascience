{
 "cells": [
  {
   "cell_type": "markdown",
   "metadata": {},
   "source": [
    "# Transaction Control Language\n",
    "By:<a href='https://www.youtube.com/wonkyCode'>WonkyCode</a>"
   ]
  },
  {
   "cell_type": "markdown",
   "metadata": {},
   "source": [
    "* Transaction Control Language or TCL commands deal with the transaction within the database.\n",
    "\n",
    "**1. COMMIT:**\n",
    "* This command is used to save all the transactions to the database.\n",
    "<pre>\n",
    "Syntax:\n",
    "            COMMIT;\n",
    "</pre>\n",
    "\n",
    "Examples:\n",
    "\n",
    "<code>\n",
    "DELETE FROM movies WHERE id=12345;\n",
    "\n",
    "COMMIT;\n",
    "</code>\n",
    "\n",
    "**2. ROLLBACK:**\n",
    "* Rollback command allows you to undo transactions that have not already been saved to the database.\n",
    "<pre>\n",
    "Syntax:\n",
    "        ROLLBACK;\n",
    "</pre>\n",
    "\n",
    "Examples:\n",
    "\n",
    "<code>\n",
    "DELETE FROM movies WHERE id=12345;\n",
    "\n",
    "ROLLBACK;\n",
    "</code>\n",
    "\n",
    "**3. SAVEPOINT:**\n",
    "* This command helps you to set a savepoint within a transaction.\n",
    "\n",
    "<pre>\n",
    "Syntax:\n",
    "        SAVEPOINT savepoint_name;\n",
    "</pre>\n",
    "\n",
    "Examples:\n",
    "\n",
    "<code>\n",
    "SAVEPOINT sp1;\n",
    "</code>"
   ]
  },
  {
   "cell_type": "code",
   "execution_count": null,
   "metadata": {},
   "outputs": [],
   "source": []
  },
  {
   "cell_type": "markdown",
   "metadata": {},
   "source": [
    "**Useful Resources:**\n",
    "* https://dev.mysql.com/doc/refman/8.0/en/commit.html\n",
    "* https://www.geeksforgeeks.org/sql-ddl-dml-tcl-dcl/\n",
    "* https://www.javatpoint.com/dbms-sql-command"
   ]
  },
  {
   "cell_type": "code",
   "execution_count": null,
   "metadata": {},
   "outputs": [],
   "source": []
  }
 ],
 "metadata": {
  "kernelspec": {
   "display_name": "Python 3",
   "language": "python",
   "name": "python3"
  },
  "language_info": {
   "codemirror_mode": {
    "name": "ipython",
    "version": 3
   },
   "file_extension": ".py",
   "mimetype": "text/x-python",
   "name": "python",
   "nbconvert_exporter": "python",
   "pygments_lexer": "ipython3",
   "version": "3.8.5"
  }
 },
 "nbformat": 4,
 "nbformat_minor": 4
}
