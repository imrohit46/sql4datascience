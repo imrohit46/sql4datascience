{
 "cells": [
  {
   "cell_type": "markdown",
   "metadata": {},
   "source": [
    "# What is SQL ?\n",
    "By:<a href='https://www.youtube.com/wonkyCode'>WonkyCode</a>"
   ]
  },
  {
   "cell_type": "markdown",
   "metadata": {},
   "source": [
    "* SQL stands for Structured Query Language.\n",
    "* It started as a research project.\n",
    "* It is the standard way to query/obtain/add/delete/modify data.\n",
    "* Now-a-days, SQL is being used by Data Scientists, Machine Learning Engineers, Software Engineers.\n",
    "* SQL is not a general purpose programming langauge.\n",
    "* We cannot build Operating Systems, Web Servers, Games using SQL.\n",
    "<pre>\n",
    "Procedural Programming Language (c/c++/python) -> Step by Step instructions.\n",
    "Declarative Programming Language (sql) -> Declaring what you want. Not How to get it.\n",
    "Eg: SELECT * FROM movies WHERE year > 2010;\n",
    "</pre>\n",
    "\n",
    "<img src='types.jpg' width=500 height='500'>"
   ]
  },
  {
   "cell_type": "markdown",
   "metadata": {},
   "source": [
    "### Execution of SQL Statement\n",
    "<pre>\n",
    "SQL Query -> Parser (Compiler) -> Query Optimizer -> Executor - Results\n",
    "</pre>\n",
    "\n",
    "* MySQL has Query Execution Plan known as EXPLAIN plan."
   ]
  },
  {
   "cell_type": "markdown",
   "metadata": {},
   "source": [
    "### Dataset\n",
    "\n",
    "* The dataset using for this course is IMDB dataset.\n",
    "* IMDB is an Amazon owned movie database website.\n",
    "\n",
    "<pre>\n",
    "+------------------+\n",
    "| Tables_in_imdb   |\n",
    "+------------------+\n",
    "| actors           |\n",
    "| directors        |\n",
    "| directors_genres |\n",
    "| movies           |\n",
    "| movies_directors |\n",
    "| movies_genres    |\n",
    "| roles            |\n",
    "+------------------+\n",
    "</pre>"
   ]
  },
  {
   "cell_type": "code",
   "execution_count": null,
   "metadata": {},
   "outputs": [],
   "source": []
  }
 ],
 "metadata": {
  "kernelspec": {
   "display_name": "Python 3",
   "language": "python",
   "name": "python3"
  },
  "language_info": {
   "codemirror_mode": {
    "name": "ipython",
    "version": 3
   },
   "file_extension": ".py",
   "mimetype": "text/x-python",
   "name": "python",
   "nbconvert_exporter": "python",
   "pygments_lexer": "ipython3",
   "version": "3.8.5"
  }
 },
 "nbformat": 4,
 "nbformat_minor": 4
}
