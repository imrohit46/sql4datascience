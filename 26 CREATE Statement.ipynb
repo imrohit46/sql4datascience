{
 "cells": [
  {
   "cell_type": "markdown",
   "metadata": {},
   "source": [
    "# CREATE\n",
    "By:<a href='https://www.youtube.com/wonkyCode'>WonkyCode</a>"
   ]
  },
  {
   "cell_type": "markdown",
   "metadata": {},
   "source": [
    "* CREATE statements is used to define the database structure schema.\n",
    "<pre>\n",
    "Syntax:\n",
    "        CREATE TABLE table_name (column_name DATATYPES[,.....]);\n",
    "</pre>\n",
    "\n",
    "**Examples:**\n",
    "\n",
    "<code>CREATE TABLE country (id INT PRIMARY KEY, name VARCHAR(50) NOT NULL, language VARCHAR(20) NOT NULL);</code>\n",
    "\n",
    "DataTypes : https://dev.mysql.com/doc/refman/8.0/en/data-types.html , https://www.mysqltutorial.org/mysql-data-types.aspx\n",
    "\n",
    "Constraints: https://www.javatpoint.com/mysql-constraints\n",
    "\n",
    "1. NOT NULL - Ensures that a column cannot have a NULL value.\n",
    "2. UNIQUE - Ensures that all values in a column are different.\n",
    "3. PRIMARY KEY - A combination of a NOT NULL and UNIQUE uniquely indentifies each row in a table.\n",
    "4. FOREIGN KEY - Uniquely identifies a row in another table.\n",
    "5. CHECK - Ensures that all values in a column satisfies a specific condition.\n",
    "6. DEFAULT - Sets a default value for a column when no value is specified.\n",
    "7. INDEX - Used to create and retrieve data from the database very quickly."
   ]
  },
  {
   "cell_type": "code",
   "execution_count": null,
   "metadata": {},
   "outputs": [],
   "source": []
  },
  {
   "cell_type": "markdown",
   "metadata": {},
   "source": [
    "**Useful References:**\n",
    "* https://dev.mysql.com/doc/refman/8.0/en/creating-tables.html\n",
    "* https://www.guru99.com/how-to-create-a-database.html\n",
    "* https://www.mysqltutorial.org/mysql-create-table/"
   ]
  },
  {
   "cell_type": "code",
   "execution_count": null,
   "metadata": {},
   "outputs": [],
   "source": []
  }
 ],
 "metadata": {
  "kernelspec": {
   "display_name": "Python 3",
   "language": "python",
   "name": "python3"
  },
  "language_info": {
   "codemirror_mode": {
    "name": "ipython",
    "version": 3
   },
   "file_extension": ".py",
   "mimetype": "text/x-python",
   "name": "python",
   "nbconvert_exporter": "python",
   "pygments_lexer": "ipython3",
   "version": "3.8.5"
  }
 },
 "nbformat": 4,
 "nbformat_minor": 4
}
