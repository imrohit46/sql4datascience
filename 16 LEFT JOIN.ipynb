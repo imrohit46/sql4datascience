{
 "cells": [
  {
   "cell_type": "markdown",
   "metadata": {},
   "source": [
    "# LEFT JOIN\n",
    "By:<a href='https://www.youtube.com/wonkyCode'>WonkyCode</a>"
   ]
  },
  {
   "cell_type": "markdown",
   "metadata": {},
   "source": [
    "### Outer Joins:\n",
    "\n",
    "* MySQL outer joins return all records matching from both tables.\n",
    "* It can detect records having no match in joined.\n",
    "\n",
    "**LEFT JOIN:**\n",
    "\n",
    "* The left join allows you to query data from two or more tables.\n",
    "* The left join returns all the rows from the table on the left even if no matching rows have been found in the table on the right. Where no matches have been found in the table on the right, NULL is returned.\n",
    "\n",
    "<code>SELECT * FROM t1 LEFT OUTER JOIN ON t1.c1 = t2.c4</code>\n",
    "\n",
    "<code>\n",
    "    SELECT m.name, g.genre\n",
    "    FROM movies m\n",
    "    LEFT JOIN movies_genres g\n",
    "    ON m.id = g.movie_id\n",
    "    LIMIT 20;\n",
    "</code>\n",
    "\n",
    "***K-Way Joins:***\n",
    "\n",
    "<code>\n",
    "    SELECT a.first_name, a.last_name\n",
    "    FROM actors a\n",
    "    JOIN roles r\n",
    "    ON a.id = r.actor_id\n",
    "    JOIN movies m\n",
    "    ON m.id = r.movie_id\n",
    "    AND m.name = 'Avatar';\n",
    "</code>\n",
    "        \n",
    "***Note:*** There is no Left Inner Join."
   ]
  },
  {
   "cell_type": "code",
   "execution_count": null,
   "metadata": {},
   "outputs": [],
   "source": []
  },
  {
   "cell_type": "markdown",
   "metadata": {},
   "source": [
    "**Use Resources:**\n",
    "* https://dev.mysql.com/doc/refman/8.0/en/join.html\n",
    "* https://www.guru99.com/joins.html\n",
    "* https://www.mysqltutorial.org/mysql-join/"
   ]
  },
  {
   "cell_type": "code",
   "execution_count": null,
   "metadata": {},
   "outputs": [],
   "source": []
  }
 ],
 "metadata": {
  "kernelspec": {
   "display_name": "Python 3",
   "language": "python",
   "name": "python3"
  },
  "language_info": {
   "codemirror_mode": {
    "name": "ipython",
    "version": 3
   },
   "file_extension": ".py",
   "mimetype": "text/x-python",
   "name": "python",
   "nbconvert_exporter": "python",
   "pygments_lexer": "ipython3",
   "version": "3.8.5"
  }
 },
 "nbformat": 4,
 "nbformat_minor": 4
}
