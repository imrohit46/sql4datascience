{
 "cells": [
  {
   "cell_type": "markdown",
   "metadata": {},
   "source": [
    "# GROUP BY Clause\n",
    "By:<a href='https://www.youtube.com/wonkyCode'>WonkyCode</a>"
   ]
  },
  {
   "cell_type": "markdown",
   "metadata": {},
   "source": [
    "The GROUP BY clause groups a set of rows into a set of summary rows by values of columns or expressions. The GROUP BY clause returns one row for each group.\n",
    "\n",
    "* You often use the GROUP BY clause with aggregate functions such as SUM, AVG, MAX, MIN and COUNT. The aggregate function that appears in the SELECT clause provides information about each group.\n",
    "\n",
    "<pre>\n",
    "Syntax:\n",
    "        SELECT\n",
    "            c1,c2,c3,..aggre_func(),..\n",
    "        FROM\n",
    "            table_name\n",
    "        WHERE\n",
    "            where_condition\n",
    "        GROUP BY\n",
    "            c1,c2,c3,....;\n",
    "</pre>\n",
    "\n",
    "**Evaluation Order:** <pre>FROM --> WHERE --> SELECT --> GROUP BY --> HAVING --> ORDER BY --> LIMIT</pre>\n",
    "\n",
    "**Examples:**\n",
    "1. Find no, of movies release per year\n",
    "\n",
    "<code>SELECT year, COUNT(year) FROM movies GROUP BY year;</code>\n",
    "\n",
    "<code>SELECT year, COUNT(year) FROM movies GROUP BY year ORDER BY year;</code>\n",
    "\n",
    "2. Year count as an alias.\n",
    "\n",
    "<code>SELECT year, COUNT(year) year_count FROM movies GROUP BY year_count;</code>\n",
    "\n",
    "* If grouping columns contain NULL values, all NULL values are grouped together."
   ]
  },
  {
   "cell_type": "code",
   "execution_count": null,
   "metadata": {},
   "outputs": [],
   "source": []
  },
  {
   "cell_type": "markdown",
   "metadata": {},
   "source": [
    "**Useful Resources:**\n",
    "* https://dev.mysql.com/doc/refman/8.0/en/group-by-handling.html\n",
    "* https://www.guru99.com/group-by.html\n",
    "* https://www.mysqltutorial.org/mysql-group-by.aspx"
   ]
  },
  {
   "cell_type": "code",
   "execution_count": null,
   "metadata": {},
   "outputs": [],
   "source": []
  }
 ],
 "metadata": {
  "kernelspec": {
   "display_name": "Python 3",
   "language": "python",
   "name": "python3"
  },
  "language_info": {
   "codemirror_mode": {
    "name": "ipython",
    "version": 3
   },
   "file_extension": ".py",
   "mimetype": "text/x-python",
   "name": "python",
   "nbconvert_exporter": "python",
   "pygments_lexer": "ipython3",
   "version": "3.8.5"
  }
 },
 "nbformat": 4,
 "nbformat_minor": 4
}
