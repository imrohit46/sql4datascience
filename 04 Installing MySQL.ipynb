{
 "cells": [
  {
   "cell_type": "markdown",
   "metadata": {},
   "source": [
    "# Installing MySQL\n",
    "By:<a href='https://www.youtube.com/wonkyCode'>WonkyCode</a>"
   ]
  },
  {
   "cell_type": "markdown",
   "metadata": {},
   "source": [
    "* Go to <a href='https://dev.mysql.com/downloads/mysql/'>https://dev.mysql.com/downloads/mysql/</a>\n",
    "* Download and install MySQL Community Server.\n",
    "* Click start and search for 'MySQL Command line client'.\n",
    "* Open and enter root password. You will see MySQL command prompt."
   ]
  },
  {
   "cell_type": "markdown",
   "metadata": {},
   "source": [
    "### Loading IMDB Dataset into MySQL Database\n",
    "\n",
    "**1. To create a database:**\n",
    "<code>\n",
    "CREATE DATABASE imdb;\n",
    "</code>\n",
    "\n",
    "**2. To use the database:**\n",
    "<code>\n",
    "USE imdb;\n",
    "</code>\n",
    "\n",
    "**3. Load data into database:**\n",
    "<code>\n",
    "SOURCE c:\\users\\.....\\imdb.sql;\n",
    "</code>\n",
    "\n",
    "**4. To see tables in the current database:**\n",
    "<code>\n",
    "SHOW TABLES;\n",
    "</code>\n",
    "\n",
    "**5. To describe something:**\n",
    "<code>\n",
    "DESCRIBE movies;\n",
    "</code>\n",
    "OR\n",
    "<code>\n",
    "DESC movies;\n",
    "</code>\n",
    "\n",
    "**6. To delete a database:**\n",
    "<code>\n",
    "DROP DATABASE imdb;\n",
    "</code>"
   ]
  },
  {
   "cell_type": "code",
   "execution_count": null,
   "metadata": {},
   "outputs": [],
   "source": []
  }
 ],
 "metadata": {
  "kernelspec": {
   "display_name": "Python 3",
   "language": "python",
   "name": "python3"
  },
  "language_info": {
   "codemirror_mode": {
    "name": "ipython",
    "version": 3
   },
   "file_extension": ".py",
   "mimetype": "text/x-python",
   "name": "python",
   "nbconvert_exporter": "python",
   "pygments_lexer": "ipython3",
   "version": "3.8.5"
  }
 },
 "nbformat": 4,
 "nbformat_minor": 4
}
