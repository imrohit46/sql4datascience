{
 "cells": [
  {
   "cell_type": "markdown",
   "metadata": {},
   "source": [
    "# DELETE\n",
    "By:<a href='https://www.youtube.com/wonkyCode'>WonkyCode</a>"
   ]
  },
  {
   "cell_type": "markdown",
   "metadata": {},
   "source": [
    "* This command is used to remove one or more rows from a table.\n",
    "\n",
    "<pre>\n",
    "Syntax:\n",
    "        DELETE FROM table_name\n",
    "        WHERE condition;\n",
    "</pre>\n",
    "\n",
    "**Examples:**\n",
    "\n",
    "<code>DELETE FROM movies WHERE id = 123456</code>\n",
    "\n",
    "* You can also remove all rows by using 'TRUNCATE TABLE table_name'. It is same as DELETE without a WHERE clause. "
   ]
  },
  {
   "cell_type": "code",
   "execution_count": null,
   "metadata": {},
   "outputs": [],
   "source": []
  },
  {
   "cell_type": "markdown",
   "metadata": {},
   "source": [
    "**Useful Resources:**\n",
    "* https://dev.mysql.com/doc/refman/8.0/en/delete.html\n",
    "* https://www.guru99.com/delete-and-update.html\n",
    "* https://www.mysqltutorial.org/mysql-delete-statement.aspx"
   ]
  },
  {
   "cell_type": "code",
   "execution_count": null,
   "metadata": {},
   "outputs": [],
   "source": []
  }
 ],
 "metadata": {
  "kernelspec": {
   "display_name": "Python 3",
   "language": "python",
   "name": "python3"
  },
  "language_info": {
   "codemirror_mode": {
    "name": "ipython",
    "version": 3
   },
   "file_extension": ".py",
   "mimetype": "text/x-python",
   "name": "python",
   "nbconvert_exporter": "python",
   "pygments_lexer": "ipython3",
   "version": "3.8.5"
  }
 },
 "nbformat": 4,
 "nbformat_minor": 4
}
