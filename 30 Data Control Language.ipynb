{
 "cells": [
  {
   "cell_type": "markdown",
   "metadata": {},
   "source": [
    "# Data Control Language\n",
    "By:<a href='https://www.youtube.com/wonkyCode'>WonkyCode</a>"
   ]
  },
  {
   "cell_type": "markdown",
   "metadata": {},
   "source": [
    "* Data Control Language includes commands like GRANT and REVOKE, which are useful to give rights and permissions and other permission control parameters of the database system.\n",
    "\n",
    "* SCL Commands: GRANT, REVOKE\n",
    "\n",
    "**1. GRANT:**\n",
    "* This command is used to give user access privileges to a database.\n",
    "<pre>\n",
    "Syntax:\n",
    "        GRANT SELECT, UPDATE ON table_name TO 'username1', 'username2', ....;\n",
    "</pre>\n",
    "\n",
    "Examples:\n",
    "\n",
    "<code>GRANT ALL ON db1.* TO 'rohit'@'localhost';</code>\n",
    "\n",
    "<code>GRANT SELECT ON db2.* TO 'role2';</code>\n",
    "\n",
    "**2. REVOKE:**\n",
    "* It is useful to take back permissions from the user.\n",
    "<pre>\n",
    "Syntax: \n",
    "        REVOKE preivilige_name\n",
    "        ON object_name\n",
    "        FROM {username | PUBLIC | role_name}\n",
    "</pre>\n",
    "\n",
    "Examples:\n",
    "\n",
    "<code>REVOKE INSERT ON *.* FROM 'rohit'@'localhost';</code>\n",
    "\n",
    "<code>REVOKE SELECT ON db2.* FROM 'roles2';</code>"
   ]
  },
  {
   "cell_type": "code",
   "execution_count": null,
   "metadata": {},
   "outputs": [],
   "source": []
  },
  {
   "cell_type": "markdown",
   "metadata": {},
   "source": [
    "**Useful Resources:**\n",
    "* https://en.wikipedia.org/wiki/Data_control_language\n",
    "* https://www.guru99.com/sql-commands-dbms-query.html\n",
    "* https://www.studytonight.com/dbms/dcl-command.php"
   ]
  }
 ],
 "metadata": {
  "kernelspec": {
   "display_name": "Python 3",
   "language": "python",
   "name": "python3"
  },
  "language_info": {
   "codemirror_mode": {
    "name": "ipython",
    "version": 3
   },
   "file_extension": ".py",
   "mimetype": "text/x-python",
   "name": "python",
   "nbconvert_exporter": "python",
   "pygments_lexer": "ipython3",
   "version": "3.8.5"
  }
 },
 "nbformat": 4,
 "nbformat_minor": 4
}
