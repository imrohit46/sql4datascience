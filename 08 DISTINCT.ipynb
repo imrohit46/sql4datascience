{
 "cells": [
  {
   "cell_type": "markdown",
   "metadata": {},
   "source": [
    "# DISTINCT\n",
    "By:<a href='https://www.youtube.com/wonkyCode'>WonkyCode</a>"
   ]
  },
  {
   "cell_type": "markdown",
   "metadata": {},
   "source": [
    "* When querying data froma table, you may get duplicate rows. In order to remove these duplicate rows, you use the DISTINCT clause in the SELECT statement.\n",
    "<pre>\n",
    "Syntax:\n",
    "        SELECT DISTINCT select_list FROM table_name;\n",
    "</pre>\n",
    "\n",
    "**Examples:**\n",
    "\n",
    "<code>SELECT * FROM movies_genres;</code>\n",
    "\n",
    "<code>SELECT DISTINCT genre FROM movies_genres;</code>\n",
    "\n",
    "<code>SELECT DISTINCT firstname, lastname FROM directors ORDER BY firstname;</code>"
   ]
  },
  {
   "cell_type": "code",
   "execution_count": null,
   "metadata": {},
   "outputs": [],
   "source": []
  },
  {
   "cell_type": "markdown",
   "metadata": {},
   "source": [
    "**Useful Resources:**\n",
    "* https://dev.mysql.com/doc/refman/8.0/en/distinct-optimization.html\n",
    "* https://www.mysqltutorial.org/mysql-distinct.aspx\n",
    "* https://www.techonthenet.com/mysql/distinct.php"
   ]
  },
  {
   "cell_type": "code",
   "execution_count": null,
   "metadata": {},
   "outputs": [],
   "source": []
  }
 ],
 "metadata": {
  "kernelspec": {
   "display_name": "Python 3",
   "language": "python",
   "name": "python3"
  },
  "language_info": {
   "codemirror_mode": {
    "name": "ipython",
    "version": 3
   },
   "file_extension": ".py",
   "mimetype": "text/x-python",
   "name": "python",
   "nbconvert_exporter": "python",
   "pygments_lexer": "ipython3",
   "version": "3.8.5"
  }
 },
 "nbformat": 4,
 "nbformat_minor": 4
}
