{
 "cells": [
  {
   "cell_type": "markdown",
   "metadata": {},
   "source": [
    "# Introduction to Databases\n",
    "By:<a href='https://www.youtube.com/wonkyCode'>WonkyCode</a>"
   ]
  },
  {
   "cell_type": "markdown",
   "metadata": {},
   "source": [
    "### 1. What is Data ?\n",
    "\n",
    "* Data can be facts related to any objects.\n",
    "<pre>\n",
    "Eg:-\n",
    "    1. name, age, height, etc,. are some data related to a person.\n",
    "    2. pictures, images, files, pdfs, etc,. can also be considered as data.\n",
    "</pre>\n"
   ]
  },
  {
   "cell_type": "markdown",
   "metadata": {},
   "source": [
    "### 2. What is Database ?\n",
    "* A Database is a systematic collection of data. They support electronic storage and manipulation of data.\n",
    "* Databases make data management easy.\n",
    "<pre>\n",
    "Eg:- COVID Patient Database, IMDB Movie Database, Facebook User Database, YouTube Video Database, etc,.\n",
    "</pre>"
   ]
  },
  {
   "cell_type": "markdown",
   "metadata": {},
   "source": [
    "### 3. Types of Databases\n",
    "<pre>\n",
    "    1. Relational Databases.\n",
    "    2. Distributed Databases.\n",
    "    3. Object Oriented Databases.\n",
    "    4. Centralized Databases.\n",
    "    5. Open-Source Databases.\n",
    "    6. Cloud Databases.\n",
    "    7. Data Warehouses.\n",
    "    8. NoSQL Databases.\n",
    "    9. Graph Databases.\n",
    "    10. OLTP Databases.\n",
    "    11. Personal Databases.\n",
    "    12. Multimodal Databases.\n",
    "    13. Document/JSON Databases.\n",
    "    14. Hierarchical Databases.\n",
    "    15. Network DbMS.\n",
    "</pre>"
   ]
  },
  {
   "cell_type": "markdown",
   "metadata": {},
   "source": [
    "### 4. What is DBMS (Database Management System) ?\n",
    "* DBMS is a collection of programs that enable its users to access databases, manipulate data, report and represent data.\n",
    "* It also helps to control access to the database.\n",
    "* DBMS is not a new concept and as such had been first implemented in 1960s.\n",
    "* **Charles Bachman's** Integrated Data Store (IDS) is said to be the first DBMS in history.\n",
    "* With time, database technologies evolved a lot while usage and expected functionalities of databases increased immensely."
   ]
  },
  {
   "cell_type": "markdown",
   "metadata": {},
   "source": [
    "**Examples of Relational Databases:** Oracle, MySQL, SQL Server, etc,.\n",
    "\n",
    "* There are non-relational databases also but in this course, we are going to talk about Relational Database which is MySQL."
   ]
  },
  {
   "cell_type": "markdown",
   "metadata": {},
   "source": [
    "### 5. Why use a Database ?\n",
    "\n",
    "* The alternatives we have for DBs are: **Text Files(csv, pdf, etc,.)**\n",
    "* Databases provide software that helps us achieve more that a flat file can't.\n",
    "* Databases use indexing data structure to store data.\n",
    "<pre>\n",
    "Eg:\n",
    "    I can easily get only those rows of data age > 25.\n",
    "</pre>\n",
    "\n",
    "* We use databases in all applications.\n",
    "<pre>\n",
    "Eg: Flight tickets, Train booking, Google Drive etc,.\n",
    "</pre>\n",
    "\n",
    "* Even mobiles use databases to store contacts information, messages, etc,."
   ]
  },
  {
   "cell_type": "markdown",
   "metadata": {},
   "source": [
    "**Useful Resources:**\n",
    "* https://www.guru99.com/introduction-to-database-sql.html"
   ]
  },
  {
   "cell_type": "code",
   "execution_count": null,
   "metadata": {},
   "outputs": [],
   "source": []
  }
 ],
 "metadata": {
  "kernelspec": {
   "display_name": "Python 3",
   "language": "python",
   "name": "python3"
  },
  "language_info": {
   "codemirror_mode": {
    "name": "ipython",
    "version": 3
   },
   "file_extension": ".py",
   "mimetype": "text/x-python",
   "name": "python",
   "nbconvert_exporter": "python",
   "pygments_lexer": "ipython3",
   "version": "3.8.5"
  }
 },
 "nbformat": 4,
 "nbformat_minor": 4
}
