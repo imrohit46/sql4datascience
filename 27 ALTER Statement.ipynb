{
 "cells": [
  {
   "cell_type": "markdown",
   "metadata": {},
   "source": [
    "# ALTER\n",
    "By:<a href='https://www.youtube.com/wonkyCode'>WonkyCode</a>"
   ]
  },
  {
   "cell_type": "markdown",
   "metadata": {},
   "source": [
    "* ALTER command allows you to alter the structure of the database.\n",
    "* There are 3 types of operations to perform ALTER. They are ADD, MODIFY, DROP.\n",
    "<pre>\n",
    "Syntax:\n",
    "        ALTER TABLE table_name ADD/MODIFY/DROP column_name col_def;\n",
    "</pre>\n",
    "\n",
    "**Examples:**\n",
    "\n",
    "<code>ALTER TABLE country ADD budget INT;</code>\n",
    "\n",
    "<code>ALTER TABLE country MODIFY budget VARCHAR(10);</code>\n",
    "\n",
    "<code>ALTER TABLE country DROP budget</code>"
   ]
  },
  {
   "cell_type": "code",
   "execution_count": null,
   "metadata": {},
   "outputs": [],
   "source": []
  },
  {
   "cell_type": "markdown",
   "metadata": {},
   "source": [
    "**Useful Resources:**\n",
    "* https://dev.mysql.com/doc/refman/8.0/en/alter-table.html\n",
    "* https://www.guru99.com/alter-drop-rename.html\n",
    "* https://www.mysqltutorial.org/mysql-alter-table.aspx"
   ]
  }
 ],
 "metadata": {
  "kernelspec": {
   "display_name": "Python 3",
   "language": "python",
   "name": "python3"
  },
  "language_info": {
   "codemirror_mode": {
    "name": "ipython",
    "version": 3
   },
   "file_extension": ".py",
   "mimetype": "text/x-python",
   "name": "python",
   "nbconvert_exporter": "python",
   "pygments_lexer": "ipython3",
   "version": "3.8.5"
  }
 },
 "nbformat": 4,
 "nbformat_minor": 4
}
