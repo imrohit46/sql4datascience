{
 "cells": [
  {
   "cell_type": "markdown",
   "metadata": {},
   "source": [
    "# Data Manipulation Language\n",
    "By:<a href='https://www.youtube.com/wonkyCode'>WonkyCode</a>"
   ]
  },
  {
   "cell_type": "markdown",
   "metadata": {},
   "source": [
    "* Data Manipulation Language allows you to modify the database instance by inserting, modifying and deleting it's data.\n",
    "* It is responsible for performing all types of data modification in a database.\n",
    "\n",
    "The DML Commands:\n",
    "1. SELECT\n",
    "2. INSERT\n",
    "3. UPDATE\n",
    "4. DELETE"
   ]
  },
  {
   "cell_type": "code",
   "execution_count": null,
   "metadata": {},
   "outputs": [],
   "source": []
  },
  {
   "cell_type": "markdown",
   "metadata": {},
   "source": [
    "**Useful Resources:**\n",
    "* https://www.databasejournal.com/features/mysql/article.php/3884346/MySQL-Data-Manipulation-and-Query-Statements.htm\n",
    "* https://www.guru99.com/sql-commands-dbms-query.html\n",
    "* https://www.nextstep4it.com/dml-commands-in-mysql/"
   ]
  },
  {
   "cell_type": "code",
   "execution_count": null,
   "metadata": {},
   "outputs": [],
   "source": []
  }
 ],
 "metadata": {
  "kernelspec": {
   "display_name": "Python 3",
   "language": "python",
   "name": "python3"
  },
  "language_info": {
   "codemirror_mode": {
    "name": "ipython",
    "version": 3
   },
   "file_extension": ".py",
   "mimetype": "text/x-python",
   "name": "python",
   "nbconvert_exporter": "python",
   "pygments_lexer": "ipython3",
   "version": "3.8.5"
  }
 },
 "nbformat": 4,
 "nbformat_minor": 4
}
