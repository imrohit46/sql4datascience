{
 "cells": [
  {
   "cell_type": "markdown",
   "metadata": {},
   "source": [
    "# HAVING Clause\n",
    "By:<a href='https://www.youtube.com/wonkyCode'>WonkyCode</a>"
   ]
  },
  {
   "cell_type": "markdown",
   "metadata": {},
   "source": [
    "The HAVING clause is used in the SELECT statement to specify filter conditions for a group of rows or aggregates.\n",
    "\n",
    "* The HAVING clause is often used with the GROUP BY clause to filter groups based on a specified condition. If the GROUP BY clause is omitted, the HAVING clause behaves like the WHERE clause.\n",
    "\n",
    "<pre>\n",
    "Syntax:\n",
    "        SELECT \n",
    "            select_list\n",
    "        FROM\n",
    "            table_name\n",
    "        WHERE\n",
    "            search_condition\n",
    "        GROUP BY\n",
    "            group_by_condition\n",
    "        HAVING\n",
    "            group_condition;\n",
    "</pre>\n",
    "\n",
    "**Examples:**\n",
    "\n",
    "1. Print years which have > 1000 movies in our database.\n",
    "\n",
    "<code>SELECT year, COUNT(year) year_count FROM movies GROUP BY year HAVING year_count > 1000;</code>\n",
    "\n",
    "Order of Execution:\n",
    "\n",
    "    * GROUP BY to create groups.\n",
    "    * Apply the aggregate function.\n",
    "    * Apply HAVING condition.\n",
    "    \n",
    "* Often used along with GROUP BY but not mandatory.\n",
    "\n",
    "2. HAVING without GROUP BY is same as WHERE\n",
    "\n",
    "<code>SELECT name, year FROM movies HAVING year > 2000;</code>\n",
    "\n",
    "<code>SELECT year, COUNT(year) year_count FROM movies WHERE rankscore > 7 GROUP BY year HAVING year_count > 25;</code>\n",
    "\n",
    "### HAVING vs WHERE\n",
    "\n",
    "* WHERE is applied on individual rows while HAVING is applied on groups.\n",
    "* HAVING is applied after grouping while WHERE is used before grouping."
   ]
  },
  {
   "cell_type": "code",
   "execution_count": null,
   "metadata": {},
   "outputs": [],
   "source": []
  },
  {
   "cell_type": "markdown",
   "metadata": {},
   "source": [
    "**Useful Resources:**\n",
    "* https://www.guru99.com/group-by.html\n",
    "* https://www.mysqltutorial.org/mysql-having.aspx"
   ]
  },
  {
   "cell_type": "code",
   "execution_count": null,
   "metadata": {},
   "outputs": [],
   "source": []
  }
 ],
 "metadata": {
  "kernelspec": {
   "display_name": "Python 3",
   "language": "python",
   "name": "python3"
  },
  "language_info": {
   "codemirror_mode": {
    "name": "ipython",
    "version": 3
   },
   "file_extension": ".py",
   "mimetype": "text/x-python",
   "name": "python",
   "nbconvert_exporter": "python",
   "pygments_lexer": "ipython3",
   "version": "3.8.5"
  }
 },
 "nbformat": 4,
 "nbformat_minor": 4
}
