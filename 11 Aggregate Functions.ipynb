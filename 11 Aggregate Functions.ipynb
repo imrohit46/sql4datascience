{
 "cells": [
  {
   "cell_type": "markdown",
   "metadata": {},
   "source": [
    "# Aggregate Functions\n",
    "By:<a href='https://www.youtube.com/wonkyCode'>WonkyCode</a>"
   ]
  },
  {
   "cell_type": "markdown",
   "metadata": {},
   "source": [
    "* An aggregate function performs a calculation on multiple values and returns a single values.\n",
    "<pre>\n",
    "Syntax:\n",
    "        function_name(DISTINCT | ALL expression)\n",
    "</pre>\n",
    "\n",
    "1. First, specify the name of the aggregate function.\n",
    "2. Second, use DISTINCT, if you want to calculate based on distinct values or ALL incase you want to calculate all values including duplicates. The default is ALL.\n",
    "3. Third, specify an expression that can be a column or expression which involves column and arithmetic operators.\n",
    "\n",
    "* The aggregate functions are often used with the GROUP BY clauses to calculate an aggregate value for each group.\n",
    "\n",
    "**Aggregate Functions:** COUNT(), MIN(), MAX(), SUM(), AVG(), etc.\n",
    "\n",
    "**Examples:**\n",
    "\n",
    "<code>SELECT MIN(year) FROM movies;</code>\n",
    "\n",
    "<code>SELECT MAX(year) FROM movies;</code>\n",
    "\n",
    "<code>SELECT COUNT(*) FROM movies;</code>\n",
    "\n",
    "<code>SELECT COUNT(*) FROM movies WHERE year > 2005;</code>\n",
    "\n",
    "<code>SELECT COUNT(year) FROM movies;</code>\n",
    "\n",
    "<code>SELECT COUNT(DISTINCT genre) FROM movies_genres;</code>\n",
    "\n",
    "\n",
    "**Other Aggregate Functions:** GROUP_CONCAT(), STD(), STDDEV(), VARIANCE(), VAR_SAMP(), STDDEV_SAMP()"
   ]
  },
  {
   "cell_type": "code",
   "execution_count": null,
   "metadata": {},
   "outputs": [],
   "source": []
  },
  {
   "cell_type": "markdown",
   "metadata": {},
   "source": [
    "**Useful Resources:**\n",
    "* https://dev.mysql.com/doc/refman/8.0/en/aggregate-functions.html\n",
    "* https://www.guru99.com/aggregate-functions.html\n",
    "* https://www.mysqltutorial.org/mysql-aggregate-functions.aspx"
   ]
  },
  {
   "cell_type": "code",
   "execution_count": null,
   "metadata": {},
   "outputs": [],
   "source": []
  }
 ],
 "metadata": {
  "kernelspec": {
   "display_name": "Python 3",
   "language": "python",
   "name": "python3"
  },
  "language_info": {
   "codemirror_mode": {
    "name": "ipython",
    "version": 3
   },
   "file_extension": ".py",
   "mimetype": "text/x-python",
   "name": "python",
   "nbconvert_exporter": "python",
   "pygments_lexer": "ipython3",
   "version": "3.8.5"
  }
 },
 "nbformat": 4,
 "nbformat_minor": 4
}
