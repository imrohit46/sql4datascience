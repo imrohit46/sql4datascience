{
 "cells": [
  {
   "cell_type": "markdown",
   "metadata": {},
   "source": [
    "# LIMIT & OFFSET\n",
    "By:<a href='https://www.youtube.com/wonkyCode'>WonkyCode</a>"
   ]
  },
  {
   "cell_type": "markdown",
   "metadata": {},
   "source": [
    "**LIMIT:**\n",
    "\n",
    "* The LIMIT clause can be used to constrain the number of rows returned be the statement.\n",
    "* LIMIT takes one or two numeric arguments which must both be non-negative integer constant. \n",
    "* With two arguments, the first argument specifies the offset of the first row to return and the second specifies the maximum number of rows to return. The offset of the initial row is 0 (not 1).\n",
    "\n",
    "<code> SELECT * FROM movies LIMIT 5, 10;</code>\n",
    "\n",
    "* With one argument, the value specifies the number of rows to return from the beginning of the resultset.\n",
    "\n",
    "<code> SELECT * FROM movies LIMIT 5;</code>"
   ]
  },
  {
   "cell_type": "markdown",
   "metadata": {},
   "source": [
    "**OFFSET:** represent the number of rows to ignore from the start.\n",
    "\n",
    "<code>SELECT * FROM movies LIMIT 20 OFFSET 40</code>\n",
    "\n",
    "-> The above statement ignores first 40 rows and retrive next 20 rows.\n",
    "\n",
    "Eg: Pagination in blog of articles."
   ]
  },
  {
   "cell_type": "code",
   "execution_count": null,
   "metadata": {},
   "outputs": [],
   "source": []
  },
  {
   "cell_type": "markdown",
   "metadata": {},
   "source": [
    "**Useful Resources:**\n",
    "* https://www.guru99.com/limit.html\n",
    "* https://www.mysqltutorial.org/mysql-limit.aspx"
   ]
  },
  {
   "cell_type": "code",
   "execution_count": null,
   "metadata": {},
   "outputs": [],
   "source": []
  }
 ],
 "metadata": {
  "kernelspec": {
   "display_name": "Python 3",
   "language": "python",
   "name": "python3"
  },
  "language_info": {
   "codemirror_mode": {
    "name": "ipython",
    "version": 3
   },
   "file_extension": ".py",
   "mimetype": "text/x-python",
   "name": "python",
   "nbconvert_exporter": "python",
   "pygments_lexer": "ipython3",
   "version": "3.8.5"
  }
 },
 "nbformat": 4,
 "nbformat_minor": 4
}
