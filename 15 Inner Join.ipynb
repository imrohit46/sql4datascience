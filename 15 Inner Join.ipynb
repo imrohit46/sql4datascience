{
 "cells": [
  {
   "cell_type": "markdown",
   "metadata": {},
   "source": [
    "# INNER JOIN\n",
    "By:<a href='https://www.youtube.com/wonkyCode'>WonkyCode</a>"
   ]
  },
  {
   "cell_type": "markdown",
   "metadata": {},
   "source": [
    "* The INNER JOIN matches each row in one table with every row in other tables and allows you to query rows that contain columns from both tables.\n",
    "\n",
    "1. For each movie, print name and the genre.\n",
    "\n",
    "<code>\n",
    "    SELECT m.name, g.genre \n",
    "    FROM movies m \n",
    "    JOIN movies_genre g \n",
    "    ON m.id = g.movie_id \n",
    "    LIMIT 20;\n",
    "</code>\n",
    "\n",
    "**Natural Join:** a join where we have the same column names accross two tables.\n",
    "\n",
    "T1 Columns: C1, C2\n",
    "\n",
    "T2 Columns: C1, C3, C4\n",
    "\n",
    "<code>SELECT * FROM T1 JOIN T2;</code>\n",
    "\n",
    "<code>SELECT * FROM T1 JOIN T2 USING (C1);</code>\n",
    "\n",
    "Resultset: C1, C2, C3, C4 "
   ]
  },
  {
   "cell_type": "code",
   "execution_count": null,
   "metadata": {},
   "outputs": [],
   "source": []
  },
  {
   "cell_type": "markdown",
   "metadata": {},
   "source": [
    "**Use Resources:**\n",
    "* https://dev.mysql.com/doc/refman/8.0/en/join.html\n",
    "* https://www.guru99.com/joins.html\n",
    "* https://www.mysqltutorial.org/mysql-join/"
   ]
  },
  {
   "cell_type": "code",
   "execution_count": null,
   "metadata": {},
   "outputs": [],
   "source": []
  }
 ],
 "metadata": {
  "kernelspec": {
   "display_name": "Python 3",
   "language": "python",
   "name": "python3"
  },
  "language_info": {
   "codemirror_mode": {
    "name": "ipython",
    "version": 3
   },
   "file_extension": ".py",
   "mimetype": "text/x-python",
   "name": "python",
   "nbconvert_exporter": "python",
   "pygments_lexer": "ipython3",
   "version": "3.8.5"
  }
 },
 "nbformat": 4,
 "nbformat_minor": 4
}
