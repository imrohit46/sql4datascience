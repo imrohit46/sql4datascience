{
 "cells": [
  {
   "cell_type": "markdown",
   "metadata": {},
   "source": [
    "# LOGICAL OPERATORS\n",
    "By:<a href='https://www.youtube.com/wonkyCode'>WonkyCode</a>"
   ]
  },
  {
   "cell_type": "markdown",
   "metadata": {},
   "source": [
    "* Logical Operators are : AND, OR, NOT, ALL, ANY, BETWEEN, EXISTS, IN, LIKE.\n",
    "\n",
    "**Website Search Filters:**\n",
    "\n",
    "<code>SELECT name, year, rankscore FROM movies WHERE rankscore > 7 AND year > 2005;</code>\n",
    "\n",
    "<code>SELECT name, year, rankscore FROM movies WHERE NOT year <= 2005 LIMIT 20 </code>\n",
    "\n",
    "<code>SELECT name, year, rankscore FROM movies WHERE rankscore > 7 OR year > 2005;</code>\n",
    "    \n",
    "**Inclusive Search:**\n",
    "\n",
    "<code>SELECT name, year, rankscore FROM movies WHERE year BETWEEN 2000 AND 2005;</code>\n",
    "\n",
    "Low value <= high value, otherwise you will get an empty result set.\n",
    "                  \n",
    "<code>SELECT name, year, rankscore FROM movies WHERE year BETWEEN 2005 AND 2000;</code>\n",
    "\n",
    "Same as genre='action' OR genre='thriller'\n",
    "\n",
    "<code>SELECT * FROM directors_genres WHERE genre IN ('action', 'thriller');</code>\n",
    "\n",
    "**Pattern Match:**\n",
    "\n",
    "% is used as a wildcard character to imply zero or more characters\n",
    "\n",
    "<code>SELECT * FROM movies WHERE name LIKE 'Go%';</code>\n",
    "\n",
    "Firstname ending with 'er'\n",
    "\n",
    "<code>SELECT * FROM actors WHERE first_name LIKE '%er';</code>\n",
    "\n",
    "Firstname contains 'fa'\n",
    "\n",
    "<code>SELECT * FROM actors WHERE first_name LIKE '%fa%';</code>\n",
    "\n",
    "'_' implies exacly one character\n",
    "\n",
    "<code>SELECT * FROM movies name LIKE 'Av_tar';</code>\n",
    "\n",
    "Ignoring particular match\n",
    "\n",
    "<code>SELECT * FROM actors WHERE first_name LIKE 'R%' AND first_name NOT LIKE 'Ra%';</code>\n",
    "\n",
    "**Note:** <pre>If you want to match % or \\_ , we should use the backslash as the escape character '\\\\%' , '\\\\_'</pre>"
   ]
  },
  {
   "cell_type": "code",
   "execution_count": null,
   "metadata": {},
   "outputs": [],
   "source": []
  },
  {
   "cell_type": "markdown",
   "metadata": {},
   "source": [
    "**Useful Resources:**\n",
    "* https://dev.mysql.com/doc/refman/8.0/en/logical-operators.html\n",
    "* https://www.mysqltutorial.org/mysql-or/\n",
    "* https://www.mysqltutorial.org/mysql-and/"
   ]
  },
  {
   "cell_type": "code",
   "execution_count": null,
   "metadata": {},
   "outputs": [],
   "source": []
  }
 ],
 "metadata": {
  "kernelspec": {
   "display_name": "Python 3",
   "language": "python",
   "name": "python3"
  },
  "language_info": {
   "codemirror_mode": {
    "name": "ipython",
    "version": 3
   },
   "file_extension": ".py",
   "mimetype": "text/x-python",
   "name": "python",
   "nbconvert_exporter": "python",
   "pygments_lexer": "ipython3",
   "version": "3.8.5"
  }
 },
 "nbformat": 4,
 "nbformat_minor": 4
}
