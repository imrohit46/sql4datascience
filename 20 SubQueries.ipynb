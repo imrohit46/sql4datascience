{
 "cells": [
  {
   "cell_type": "markdown",
   "metadata": {},
   "source": [
    "# SubQueries\n",
    "By:<a href='https://www.youtube.com/wonkyCode'>WonkyCode</a>"
   ]
  },
  {
   "cell_type": "markdown",
   "metadata": {},
   "source": [
    "* A subquery is a query that is contained inside another query. The inner select query is usually used to determine the results of the outer select query.\n",
    "<pre>\n",
    "Syntax:\n",
    "      SELECT * FROM table_name1 WHERE (column1, column2,..) = (SELECT column1, column2,... FROM table_name2);\n",
    "</pre>\n",
    "\n",
    "-> First the inner query is executed.\n",
    "\n",
    "-> Output of inner query is substituted in outer query.\n",
    "\n",
    "-> On execution outer query gives following result.\n",
    "\n",
    "1. List all actors in the movie Titanic.\n",
    "\n",
    "<code>\n",
    "    SELECT * \n",
    "    FROM actors\n",
    "    WHERE id\n",
    "    IN (\n",
    "        SELECT actor_id\n",
    "        FROM roles\n",
    "        WHERE movie_id\n",
    "        IN (\n",
    "            SELECT id\n",
    "            FROM movies\n",
    "            WHERE name = 'Titanic'\n",
    "        )\n",
    "    );\n",
    "</code>\n",
    "\n",
    "* We can use IN, NOT IN, EXISTS, NOT EXISTS, ANY, ALL, Comparision Operators.\n",
    "\n",
    "2. Get all movies whose rankscore is same as the maximum rankscore\n",
    "\n",
    "<code>SELECT * FROM movies WHERE rankscore >= ALL(SELECT MAX(rankscore) FROM movies);</code>\n",
    "\n",
    "### Correlated SubQuery\n",
    "\n",
    "* A correlated subquery is a subquery that uses the data from the outer query. In other words, a correlated subquery depends on the outer query.\n",
    "* A correlated subquery is evaluated once for each row in the outer query.\n",
    "<pre>\n",
    "Syntax:\n",
    "        SELECT *\n",
    "        FROM t1\n",
    "        WHERE column1 = ANY (\n",
    "            SELECT column1 FROM t2 WHERE t2.column2 = t1.column2\n",
    "        )\n",
    "</pre>\n",
    "\n",
    "1. Find all the employees whose salary is above for their department.\n",
    "\n",
    "<code>SELECT * FROM employee emp WHERE salary > (SELECT AVG(salary) FROM employees WHERE department = emp.department);</code>"
   ]
  },
  {
   "cell_type": "code",
   "execution_count": null,
   "metadata": {},
   "outputs": [],
   "source": []
  },
  {
   "cell_type": "markdown",
   "metadata": {},
   "source": [
    "**Useful Resources:**\n",
    "* https://dev.mysql.com/doc/refman/8.0/en/subqueries.html\n",
    "* https://dev.mysql.com/doc/refman/8.0/en/correlated-subqueries.html\n",
    "* https://www.guru99.com/sub-queries.html\n",
    "* https://www.mysqltutorial.org/mysql-subquery/"
   ]
  },
  {
   "cell_type": "code",
   "execution_count": null,
   "metadata": {},
   "outputs": [],
   "source": []
  }
 ],
 "metadata": {
  "kernelspec": {
   "display_name": "Python 3",
   "language": "python",
   "name": "python3"
  },
  "language_info": {
   "codemirror_mode": {
    "name": "ipython",
    "version": 3
   },
   "file_extension": ".py",
   "mimetype": "text/x-python",
   "name": "python",
   "nbconvert_exporter": "python",
   "pygments_lexer": "ipython3",
   "version": "3.8.5"
  }
 },
 "nbformat": 4,
 "nbformat_minor": 4
}
