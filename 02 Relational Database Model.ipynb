{
 "cells": [
  {
   "cell_type": "markdown",
   "metadata": {},
   "source": [
    "# Relational Database Model\n",
    "By:<a href='https://www.youtube.com/wonkyCode'>WonkyCode</a>"
   ]
  },
  {
   "cell_type": "markdown",
   "metadata": {},
   "source": [
    "### MODELS IN DBMS\n",
    "\n",
    "**1. High Level View or Conceptual View. Eg: ER Diagrams**\n",
    "<img src='highlevel.png' width=500 height=500 />\n",
    "\n",
    "**2. Representational View or Implementational View. Eg: Relations**\n",
    "<img src='er1.png' width=800 height=800 />\n",
    "\n",
    "3. Low Level View or Physical Data Model. Eg: Storage\n",
    "<img src='index.png' width=600 height=600 />"
   ]
  },
  {
   "cell_type": "markdown",
   "metadata": {},
   "source": [
    "### ER MODEL\n",
    "**1. Entity**\n",
    "<pre>\n",
    "    Entity Type                   Entity\n",
    "    ------------                 --------\n",
    "    PERSON(age, name, height) -   (25, 'Rohit', 5.6)\n",
    "</pre>\n",
    "\n",
    "**2. Attributes**\n",
    "* Properties.\n",
    "<pre>\n",
    "    Eg: name, age, height\n",
    "</pre>\n",
    "\n",
    "**3. Relationships**\n",
    "* Association.\n",
    "<pre>\n",
    "    Eg: works for\n",
    "</pre>"
   ]
  },
  {
   "cell_type": "markdown",
   "metadata": {},
   "source": [
    "### ATTRIBUTES\n",
    "* Attributes are used to describe entities or relationships.\n",
    "\n",
    "**1. Simple Attributes or Composite Attributes**\n",
    "<pre>\n",
    "Eg: \n",
    "    name (firstname, middlename, lastname) -> composite\n",
    "    firstname, middlename, lastname        -> simple\n",
    "</pre>\n",
    "\n",
    "**2. Single Valued or Multi-Valued Attributes**\n",
    "<pre>\n",
    "Eg:\n",
    "    date_of_birth -> single valued\n",
    "    phone_number  -> multi-valued\n",
    "</pre>\n",
    "\n",
    "**3. Stored & Derived Attributes**\n",
    "<pre>\n",
    "Eg:\n",
    "    date_of_birth -> stored\n",
    "              age -> derived\n",
    "</pre>\n",
    "\n",
    "**4. Complex Attributes**\n",
    "<pre>\n",
    "Eg:\n",
    "    address (street, city, state) -> multi-valued, composite attributes\n",
    "</pre>"
   ]
  },
  {
   "cell_type": "markdown",
   "metadata": {},
   "source": [
    "### TABLES\n",
    "* In relational databases, we store data in tables.\n",
    "* Instead of storing all the data in one table, what if we can store data in multiple tables. That idea is called **Normalization**\n",
    "\n",
    "<img src='table.png' width=600 height=600 />"
   ]
  },
  {
   "cell_type": "code",
   "execution_count": null,
   "metadata": {},
   "outputs": [],
   "source": []
  }
 ],
 "metadata": {
  "kernelspec": {
   "display_name": "Python 3",
   "language": "python",
   "name": "python3"
  },
  "language_info": {
   "codemirror_mode": {
    "name": "ipython",
    "version": 3
   },
   "file_extension": ".py",
   "mimetype": "text/x-python",
   "name": "python",
   "nbconvert_exporter": "python",
   "pygments_lexer": "ipython3",
   "version": "3.8.5"
  }
 },
 "nbformat": 4,
 "nbformat_minor": 4
}
