{
 "cells": [
  {
   "cell_type": "markdown",
   "metadata": {},
   "source": [
    "# UPDATE\n",
    "By:<a href='https://www.youtube.com/wonkyCode'>WonkyCode</a>"
   ]
  },
  {
   "cell_type": "markdown",
   "metadata": {},
   "source": [
    "* This command is used to update or modify the value of a column in the table.\n",
    "\n",
    "<pre>\n",
    "Syntax:\n",
    "        UPDATE table_name\n",
    "        SET column_name1 = expr1, column_name2 = expr2,...\n",
    "        [WHERE condition];\n",
    "</pre>\n",
    "\n",
    "**Example:**\n",
    "\n",
    "<code>UPDATE movies SET rankscore = 7 WHERE id = 412322;</code>"
   ]
  },
  {
   "cell_type": "code",
   "execution_count": null,
   "metadata": {},
   "outputs": [],
   "source": []
  },
  {
   "cell_type": "markdown",
   "metadata": {},
   "source": [
    "**Useful Resources:**\n",
    "* https://dev.mysql.com/doc/refman/8.0/en/update.html\n",
    "* https://www.guru99.com/sql-update-query.html\n",
    "* https://www.mysqltutorial.org/mysql-update-data.aspx"
   ]
  },
  {
   "cell_type": "code",
   "execution_count": null,
   "metadata": {},
   "outputs": [],
   "source": []
  }
 ],
 "metadata": {
  "kernelspec": {
   "display_name": "Python 3",
   "language": "python",
   "name": "python3"
  },
  "language_info": {
   "codemirror_mode": {
    "name": "ipython",
    "version": 3
   },
   "file_extension": ".py",
   "mimetype": "text/x-python",
   "name": "python",
   "nbconvert_exporter": "python",
   "pygments_lexer": "ipython3",
   "version": "3.8.5"
  }
 },
 "nbformat": 4,
 "nbformat_minor": 4
}
