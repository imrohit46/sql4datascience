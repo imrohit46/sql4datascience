{
 "cells": [
  {
   "cell_type": "markdown",
   "metadata": {},
   "source": [
    "# TRUNCATE\n",
    "By:<a href='https://www.youtube.com/wonkyCode'>WonkyCode</a>"
   ]
  },
  {
   "cell_type": "markdown",
   "metadata": {},
   "source": [
    "* This command is used to delete all rows from the table and free the space containing the table.\n",
    "<pre>\n",
    "Syntax:\n",
    "        TRUNCATE TABLE table_name;\n",
    "</pre>\n",
    "\n",
    "**Examples:**\n",
    "\n",
    "<code>TRUNCATE TABLE country;</code>"
   ]
  },
  {
   "cell_type": "code",
   "execution_count": null,
   "metadata": {},
   "outputs": [],
   "source": []
  },
  {
   "cell_type": "markdown",
   "metadata": {},
   "source": [
    "**Useful Resources:**\n",
    "* https://dev.mysql.com/doc/refman/8.0/en/truncate-table.html\n",
    "* https://www.mysqltutorial.org/mysql-truncate-table/"
   ]
  },
  {
   "cell_type": "code",
   "execution_count": null,
   "metadata": {},
   "outputs": [],
   "source": []
  }
 ],
 "metadata": {
  "kernelspec": {
   "display_name": "Python 3",
   "language": "python",
   "name": "python3"
  },
  "language_info": {
   "codemirror_mode": {
    "name": "ipython",
    "version": 3
   },
   "file_extension": ".py",
   "mimetype": "text/x-python",
   "name": "python",
   "nbconvert_exporter": "python",
   "pygments_lexer": "ipython3",
   "version": "3.8.5"
  }
 },
 "nbformat": 4,
 "nbformat_minor": 4
}
