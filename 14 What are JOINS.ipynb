{
 "cells": [
  {
   "cell_type": "markdown",
   "metadata": {},
   "source": [
    "# What are JOINS ?\n",
    "By:<a href='https://www.youtube.com/wonkyCode'>WonkyCode</a>"
   ]
  },
  {
   "cell_type": "markdown",
   "metadata": {},
   "source": [
    "A JOIN is a method of linking data between one or more tables based on values of the common column between the tables.\n",
    "\n",
    "* MySQL supports the following joins:\n",
    "    1. Inner Join\n",
    "    2. Left Join\n",
    "    3. Right Join\n",
    "    4. Cross Join\n",
    "    5. Full Outer Join\n",
    "    \n",
    "***NOTE:*** Joins can be expensive computationally when we have large tables."
   ]
  },
  {
   "cell_type": "code",
   "execution_count": null,
   "metadata": {},
   "outputs": [],
   "source": []
  },
  {
   "cell_type": "markdown",
   "metadata": {},
   "source": [
    "**Use Resources:**\n",
    "* https://dev.mysql.com/doc/refman/8.0/en/join.html\n",
    "* https://www.guru99.com/joins.html\n",
    "* https://www.mysqltutorial.org/mysql-join/"
   ]
  },
  {
   "cell_type": "code",
   "execution_count": null,
   "metadata": {},
   "outputs": [],
   "source": []
  }
 ],
 "metadata": {
  "kernelspec": {
   "display_name": "Python 3",
   "language": "python",
   "name": "python3"
  },
  "language_info": {
   "codemirror_mode": {
    "name": "ipython",
    "version": 3
   },
   "file_extension": ".py",
   "mimetype": "text/x-python",
   "name": "python",
   "nbconvert_exporter": "python",
   "pygments_lexer": "ipython3",
   "version": "3.8.5"
  }
 },
 "nbformat": 4,
 "nbformat_minor": 4
}
