{
 "cells": [
  {
   "cell_type": "markdown",
   "metadata": {},
   "source": [
    "# INSERT\n",
    "By:<a href='https://www.youtube.com/wonkyCode'>WonkyCode</a>"
   ]
  },
  {
   "cell_type": "markdown",
   "metadata": {},
   "source": [
    "* The INSERT statement allows you to insert one or more rows into a table.\n",
    "<pre>\n",
    "Syntax:\n",
    "            INSERT INTO table_name(c1, c2,...)\n",
    "            VALUES(v1, v2,....);\n",
    "</pre>\n",
    "\n",
    "**Examples:**\n",
    "\n",
    "1. One Row\n",
    "\n",
    "<code>INSERT INTO movies(id, name, year, rankscore) VALUES (123456, 'Jersey', 2019, 8)</code>\n",
    "\n",
    "2. Multiple Rows\n",
    "\n",
    "<code>INSERT INTO movies(id, name, year, rankscore) VALUES (123457, 'Rangasthalam', 2018, 8), (123458, 'Pushpa', 2021, 8);</code>\n",
    "\n",
    "3. Copying rows from another table\n",
    "\n",
    "<code>INSERT INTO t1 SELECT * FROM t2 WHERE c1 IN (value1, value2,...)</code>"
   ]
  },
  {
   "cell_type": "code",
   "execution_count": null,
   "metadata": {},
   "outputs": [],
   "source": []
  },
  {
   "cell_type": "markdown",
   "metadata": {},
   "source": [
    "**Useful Resources:**\n",
    "* https://dev.mysql.com/doc/refman/8.0/en/insert.html\n",
    "* https://www.guru99.com/insert-into.html\n",
    "* https://www.mysqltutorial.org/mysql-insert-statement.aspx\n",
    "* https://www.mysqltutorial.org/mysql-insert-into-select/"
   ]
  },
  {
   "cell_type": "code",
   "execution_count": null,
   "metadata": {},
   "outputs": [],
   "source": []
  }
 ],
 "metadata": {
  "kernelspec": {
   "display_name": "Python 3",
   "language": "python",
   "name": "python3"
  },
  "language_info": {
   "codemirror_mode": {
    "name": "ipython",
    "version": 3
   },
   "file_extension": ".py",
   "mimetype": "text/x-python",
   "name": "python",
   "nbconvert_exporter": "python",
   "pygments_lexer": "ipython3",
   "version": "3.8.5"
  }
 },
 "nbformat": 4,
 "nbformat_minor": 4
}
