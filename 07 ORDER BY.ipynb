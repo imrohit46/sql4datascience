{
 "cells": [
  {
   "cell_type": "markdown",
   "metadata": {},
   "source": [
    "# ORDER BY\n",
    "By:<a href='https://www.youtube.com/wonkyCode'>WonkyCode</a>"
   ]
  },
  {
   "cell_type": "markdown",
   "metadata": {},
   "source": [
    "* When you use the SELECT statement to query data from a table, the result set is not sorted. It means that the rows in the result set can be in any order.\n",
    "* To sort the result set, you add the ORDER BY clause to the SELECT statement.\n",
    "<pre>\n",
    "Syntax: \n",
    "            SELECT\n",
    "                select_list\n",
    "            FROM\n",
    "                table_name\n",
    "            ORDER BY\n",
    "                column1 [ASC|DESC],\n",
    "                column2 [ASC|DESC],\n",
    "                ...;\n",
    "</pre>"
   ]
  },
  {
   "cell_type": "markdown",
   "metadata": {},
   "source": [
    "Like sorting items by price in Amazon.\n",
    "\n",
    "<code>SELECT * FROM movies ORDER BY year DESC LIMIT 20;</code>\n",
    "\n",
    "Default order is Ascending order.\n",
    "\n",
    "<code>SELECT * FROM movies ORDER BY year LIMIT 20;</code>"
   ]
  },
  {
   "cell_type": "code",
   "execution_count": null,
   "metadata": {},
   "outputs": [],
   "source": []
  },
  {
   "cell_type": "markdown",
   "metadata": {},
   "source": [
    "**Useful Resources:**\n",
    "* https://dev.mysql.com/doc/refman/8.0/en/order-by-optimization.html\n",
    "* https://www.guru99.com/order-by-desc-and-asc.html\n",
    "* https://www.mysqltutorial.org/mysql-order-by/"
   ]
  },
  {
   "cell_type": "code",
   "execution_count": null,
   "metadata": {},
   "outputs": [],
   "source": []
  }
 ],
 "metadata": {
  "kernelspec": {
   "display_name": "Python 3",
   "language": "python",
   "name": "python3"
  },
  "language_info": {
   "codemirror_mode": {
    "name": "ipython",
    "version": 3
   },
   "file_extension": ".py",
   "mimetype": "text/x-python",
   "name": "python",
   "nbconvert_exporter": "python",
   "pygments_lexer": "ipython3",
   "version": "3.8.5"
  }
 },
 "nbformat": 4,
 "nbformat_minor": 4
}
