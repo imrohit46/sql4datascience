{
 "cells": [
  {
   "cell_type": "markdown",
   "metadata": {},
   "source": [
    "# WHERE Clause\n",
    "By:<a href='https://www.youtube.com/wonkyCode'>WonkyCode</a>"
   ]
  },
  {
   "cell_type": "markdown",
   "metadata": {},
   "source": [
    "* The WHERE clause allows you to specify a search condition for the rows returned by a query.\n",
    "<pre>\n",
    "Syntax:\n",
    "        SELECT\n",
    "            select_list\n",
    "        FROM\n",
    "            table_name\n",
    "        WHERE\n",
    "            search_condition;\n",
    "</pre>\n",
    "\n",
    "* The search_condition is a combination of one or more predicates using the logical operator AND, OR and NOT.\n",
    "* In MySQL, a predicate is a boolean expression that evaluates to TRUE, FALSE or UNKNOWN.\n",
    "* Any row from the table_name that causes the search_condition to evaluate to TRUE will be included in the final result set.\n",
    "* Besides the SELECT statement, you can use the WHERE clause in UPDATE or DELETE statement to specify which rows to update or delete.\n",
    "\n",
    "**Evaluation Order:**\n",
    "<pre>\n",
    "    FROM --> WHERE --> SELECT --> ORDER BY\n",
    "</pre> \n",
    "\n",
    "**Examples:**\n",
    "\n",
    "<code>SELECT * FROM movies WHERE rankscore > 7;</code>\n",
    "\n",
    "<code>SELECT * FROM movies WHERE rankscore > 7 ORDER BY rankscore DESC LIMIT 20;</code>\n",
    "\n",
    "* Conditions Output: TRUE, FALSE, NULL.\n",
    "* Comparision Operators: =, <> or !=, <, <=, >, >=\n",
    "\n",
    "<code>SELECT * FROM movies_genre WHERE genre='thriller';</code>\n",
    "\n",
    "<code>SELECT * FROM movies_genre WHERE genre <> 'romance';</code>\n",
    "    \n",
    "* NULL => does not exist/ unknown/ missing\n",
    "* '=' does not work with NULL. It will give you an empty result set.\n",
    "    \n",
    "<code>SELECT * FROM movies WHERE rankscore=NULL; (**DOES NOT WORK**)</code>\n",
    "\n",
    "<code>SELECT * FROM movies WHERE rankscore IS NULL LIMIT 20;</code>\n",
    "    \n",
    "<code>SELECT name, year FROM movies WHERE rankscore IS NOT NULL LIMIT 20;</code>\n",
    "    \n",
    "    \n",
    "* Amazon shopping website is the best example to understand this where clause."
   ]
  },
  {
   "cell_type": "code",
   "execution_count": null,
   "metadata": {},
   "outputs": [],
   "source": []
  },
  {
   "cell_type": "markdown",
   "metadata": {},
   "source": [
    "**Useful Resources:**\n",
    "* https://dev.mysql.com/doc/refman/8.0/en/where-optimization.html\n",
    "* https://www.guru99.com/where-clause.html\n",
    "* https://www.mysqltutorial.org/mysql-where/"
   ]
  },
  {
   "cell_type": "code",
   "execution_count": null,
   "metadata": {},
   "outputs": [],
   "source": []
  }
 ],
 "metadata": {
  "kernelspec": {
   "display_name": "Python 3",
   "language": "python",
   "name": "python3"
  },
  "language_info": {
   "codemirror_mode": {
    "name": "ipython",
    "version": 3
   },
   "file_extension": ".py",
   "mimetype": "text/x-python",
   "name": "python",
   "nbconvert_exporter": "python",
   "pygments_lexer": "ipython3",
   "version": "3.8.5"
  }
 },
 "nbformat": 4,
 "nbformat_minor": 4
}
